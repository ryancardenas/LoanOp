{
 "cells": [
  {
   "cell_type": "code",
   "execution_count": 7,
   "metadata": {},
   "outputs": [],
   "source": [
    "import numpy as np\n",
    "from loanop import getMinPayment, loadLoanCSV"
   ]
  },
  {
   "cell_type": "code",
   "execution_count": 2,
   "metadata": {},
   "outputs": [
    {
     "name": "stdout",
     "output_type": "stream",
     "text": [
      "36.29\n"
     ]
    }
   ],
   "source": [
    "a = getMinPayment(3500, 0.045)\n",
    "print(a)"
   ]
  },
  {
   "cell_type": "code",
   "execution_count": 3,
   "metadata": {},
   "outputs": [
    {
     "ename": "AttributeError",
     "evalue": "'str' object has no attribute 'decode'",
     "output_type": "error",
     "traceback": [
      "\u001b[1;31m---------------------------------------------------------------------------\u001b[0m",
      "\u001b[1;31mAttributeError\u001b[0m                            Traceback (most recent call last)",
      "\u001b[1;32m<ipython-input-3-31ca8eb5c4eb>\u001b[0m in \u001b[0;36m<module>\u001b[1;34m\u001b[0m\n\u001b[0;32m      1\u001b[0m \u001b[0mfilename\u001b[0m \u001b[1;33m=\u001b[0m \u001b[1;34m'./sample_data/person_A.csv'\u001b[0m\u001b[1;33m\u001b[0m\u001b[1;33m\u001b[0m\u001b[0m\n\u001b[1;32m----> 2\u001b[1;33m \u001b[0mloans\u001b[0m \u001b[1;33m=\u001b[0m \u001b[0mloadLoanCSV\u001b[0m\u001b[1;33m(\u001b[0m\u001b[0mfilename\u001b[0m\u001b[1;33m,\u001b[0m \u001b[0mskiprow\u001b[0m\u001b[1;33m=\u001b[0m\u001b[1;36m1\u001b[0m\u001b[1;33m)\u001b[0m\u001b[1;33m\u001b[0m\u001b[1;33m\u001b[0m\u001b[0m\n\u001b[0m",
      "\u001b[1;32m~\\Documents\\GitHub\\LoanOp\\loanop.py\u001b[0m in \u001b[0;36mloadLoanCSV\u001b[1;34m(filename, cols, skiprow)\u001b[0m\n\u001b[0;32m     34\u001b[0m     datatype = {'names': ('loan', 'princ', 'rate',\n\u001b[0;32m     35\u001b[0m                         'interest', 'term', 'minpay'),\n\u001b[1;32m---> 36\u001b[1;33m                 'formats': ('|S15'.decode('utf8'), np.float, np.float,\n\u001b[0m\u001b[0;32m     37\u001b[0m                             np.float, np.float, np.float)\n\u001b[0;32m     38\u001b[0m                 }\n",
      "\u001b[1;31mAttributeError\u001b[0m: 'str' object has no attribute 'decode'"
     ]
    }
   ],
   "source": [
    "filename = './sample_data/person_A.csv'\n",
    "loans = loadLoanCSV(filename, skiprow=1)"
   ]
  },
  {
   "cell_type": "code",
   "execution_count": 11,
   "metadata": {},
   "outputs": [
    {
     "data": {
      "text/plain": [
       "'Loan 2'"
      ]
     },
     "execution_count": 11,
     "metadata": {},
     "output_type": "execute_result"
    }
   ],
   "source": [
    "loans[1][0].decode('utf8')"
   ]
  },
  {
   "cell_type": "code",
   "execution_count": 18,
   "metadata": {},
   "outputs": [],
   "source": [
    "    datatype = {'names': ('loan', 'princ', 'rate',\n",
    "                        'interest', 'term', 'minpay'),\n",
    "                'formats': ('|S15', np.float, np.float,\n",
    "                            np.float, np.float, np.float)\n",
    "                }\n",
    "loan = np.genfromtxt(filename, delimiter=',', dtype=datatype,\n",
    "                    names=('loan', 'princ', 'rate',\n",
    "                        'interest', 'term', 'minpay'))"
   ]
  },
  {
   "cell_type": "code",
   "execution_count": 19,
   "metadata": {},
   "outputs": [
    {
     "data": {
      "text/plain": [
       "array([(b'\\xef\\xbb\\xbfType',   nan,    nan,    nan, nan,   nan),\n",
       "       (b'Loan 1',  200., 0.0466,   5.56, 10.,  2.66),\n",
       "       (b'Loan 2',  520., 0.0386,  33.47, 10.,  6.37),\n",
       "       (b'Loan 3',  884., 0.068 , 220.43, 10., 14.54),\n",
       "       (b'Loan 4', 1280., 0.0386,  82.43, 10., 15.69),\n",
       "       (b'Loan 5', 1116., 0.068 , 278.26, 10., 18.36),\n",
       "       (b'Loan 6', 2000., 0.068 , 362.51, 10., 32.9 ),\n",
       "       (b'Loan 7', 2000., 0.068 , 636.03, 10., 32.9 ),\n",
       "       (b'Loan 8', 3000., 0.0466,   0.  , 10., 39.84),\n",
       "       (b'Loan 9', 3500., 0.045 ,   0.  , 10., 45.74),\n",
       "       (b'Loan 10', 5500., 0.034 ,   0.  , 10., 64.39),\n",
       "       (b'Loan 11', 5500., 0.034 ,   0.  , 10., 64.39),\n",
       "       (b'Loan 12', 5500., 0.0386,   0.  , 10., 67.42)],\n",
       "      dtype=[('loan', 'S15'), ('princ', '<f8'), ('rate', '<f8'), ('interest', '<f8'), ('term', '<f8'), ('minpay', '<f8')])"
      ]
     },
     "execution_count": 19,
     "metadata": {},
     "output_type": "execute_result"
    }
   ],
   "source": [
    "loan"
   ]
  },
  {
   "cell_type": "code",
   "execution_count": 22,
   "metadata": {},
   "outputs": [],
   "source": [
    "loans = np.loadtxt(filename, dtype=datatype, \n",
    "                   converters={0: lambda s: str(s)},\n",
    "                   delimiter=',', skiprows=1)"
   ]
  },
  {
   "cell_type": "code",
   "execution_count": null,
   "metadata": {},
   "outputs": [],
   "source": []
  },
  {
   "cell_type": "code",
   "execution_count": null,
   "metadata": {
    "collapsed": true
   },
   "outputs": [],
   "source": []
  }
 ],
 "metadata": {
  "kernelspec": {
   "display_name": "Python 3",
   "language": "python",
   "name": "python3"
  },
  "language_info": {
   "codemirror_mode": {
    "name": "ipython",
    "version": 3
   },
   "file_extension": ".py",
   "mimetype": "text/x-python",
   "name": "python",
   "nbconvert_exporter": "python",
   "pygments_lexer": "ipython3",
   "version": "3.6.8"
  }
 },
 "nbformat": 4,
 "nbformat_minor": 2
}
