{
 "cells": [
  {
   "cell_type": "code",
   "execution_count": 10,
   "metadata": {},
   "outputs": [],
   "source": [
    "import numpy as np\n",
    "from loanop import getMinPayment, loadLoanCSV\n",
    "import loanop as lp"
   ]
  },
  {
   "cell_type": "code",
   "execution_count": 14,
   "metadata": {},
   "outputs": [
    {
     "name": "stdout",
     "output_type": "stream",
     "text": [
      "55.34\n"
     ]
    }
   ],
   "source": [
    "a = getMinPayment(5500, 0.0386)\n",
    "print(a)"
   ]
  },
  {
   "cell_type": "code",
   "execution_count": 43,
   "metadata": {},
   "outputs": [
    {
     "data": {
      "text/plain": [
       "array([('Loan 1',  200., 0.0466,   5.56, 10.,  2.66),\n",
       "       ('Loan 2',  520., 0.0386,  33.47, 10.,  6.37),\n",
       "       ('Loan 3',  884., 0.068 , 220.43, 10., 14.54),\n",
       "       ('Loan 4', 1280., 0.0386,  82.43, 10., 15.69),\n",
       "       ('Loan 5', 1116., 0.068 , 278.26, 10., 18.36),\n",
       "       ('Loan 6', 2000., 0.068 , 362.51, 10., 32.9 ),\n",
       "       ('Loan 7', 2000., 0.068 , 636.03, 10., 32.9 ),\n",
       "       ('Loan 8', 3000., 0.0466,   0.  , 10., 39.84),\n",
       "       ('Loan 9', 3500., 0.045 ,   0.  , 10., 45.74),\n",
       "       ('Loan 10', 5500., 0.034 ,   0.  , 10., 64.39),\n",
       "       ('Loan 11', 5500., 0.034 ,   0.  , 10., 64.39),\n",
       "       ('Loan 12', 5500., 0.0386,   0.  , 10., 67.42)],\n",
       "      dtype=[('loan', '<U16'), ('princ', '<f8'), ('rate', '<f8'), ('interest', '<f8'), ('term', '<f8'), ('minpay', '<f8')])"
      ]
     },
     "execution_count": 43,
     "metadata": {},
     "output_type": "execute_result"
    }
   ],
   "source": [
    "filename = './sample_data/person_A.csv'\n",
    "loans = loadLoanCSV(filename, skiprow=1)\n",
    "loans"
   ]
  },
  {
   "cell_type": "code",
   "execution_count": 46,
   "metadata": {},
   "outputs": [
    {
     "data": {
      "text/plain": [
       "array([('Loan 1',  200., 0.0466,   5.56, 10.,  2.09),\n",
       "       ('Loan 2',  520., 0.0386,  33.47, 10.,  5.23),\n",
       "       ('Loan 3',  884., 0.068 , 220.43, 10., 10.18),\n",
       "       ('Loan 4', 1280., 0.0386,  82.43, 10., 12.88),\n",
       "       ('Loan 5', 1116., 0.068 , 278.26, 10., 12.85),\n",
       "       ('Loan 6', 2000., 0.068 , 362.51, 10., 23.04),\n",
       "       ('Loan 7', 2000., 0.068 , 636.03, 10., 23.04),\n",
       "       ('Loan 8', 3000., 0.0466,   0.  , 10., 31.34),\n",
       "       ('Loan 9', 3500., 0.045 ,   0.  , 10., 36.29),\n",
       "       ('Loan 10', 5500., 0.034 ,   0.  , 10., 54.14),\n",
       "       ('Loan 11', 5500., 0.034 ,   0.  , 10., 54.14),\n",
       "       ('Loan 12', 5500., 0.0386,   0.  , 10., 55.34)],\n",
       "      dtype=[('loan', '<U16'), ('princ', '<f8'), ('rate', '<f8'), ('interest', '<f8'), ('term', '<f8'), ('minpay', '<f8')])"
      ]
     },
     "execution_count": 46,
     "metadata": {},
     "output_type": "execute_result"
    }
   ],
   "source": [
    "for i in range(len(loans)):\n",
    "    p = loans[i][1]\n",
    "    r = loans[i][2]\n",
    "    loans[i][5] = getMinPayment(p, r)\n",
    "    \n",
    "loans"
   ]
  },
  {
   "cell_type": "code",
   "execution_count": 49,
   "metadata": {},
   "outputs": [],
   "source": [
    "totalpaid = 0\n",
    "\n",
    "minpayment = round(np.sum([i[5] for i in loans]), 2)\n"
   ]
  },
  {
   "cell_type": "code",
   "execution_count": null,
   "metadata": {},
   "outputs": [],
   "source": []
  }
 ],
 "metadata": {
  "kernelspec": {
   "display_name": "Python 3",
   "language": "python",
   "name": "python3"
  },
  "language_info": {
   "codemirror_mode": {
    "name": "ipython",
    "version": 3
   },
   "file_extension": ".py",
   "mimetype": "text/x-python",
   "name": "python",
   "nbconvert_exporter": "python",
   "pygments_lexer": "ipython3",
   "version": "3.6.8"
  }
 },
 "nbformat": 4,
 "nbformat_minor": 2
}
