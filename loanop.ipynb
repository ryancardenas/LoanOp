{
 "cells": [
  {
   "cell_type": "code",
   "execution_count": 25,
   "metadata": {},
   "outputs": [],
   "source": [
    "import numpy as np\n",
    "from loanop import compound, getMinPayment, loadLoanCSV\n",
    "import loanop as lp"
   ]
  },
  {
   "cell_type": "code",
   "execution_count": 23,
   "metadata": {},
   "outputs": [
    {
     "name": "stdout",
     "output_type": "stream",
     "text": [
      "55.34\n"
     ]
    }
   ],
   "source": [
    "a = getMinPayment(5500, 0.0386, compounding='weekly')\n",
    "print(a)"
   ]
  },
  {
   "cell_type": "code",
   "execution_count": 24,
   "metadata": {},
   "outputs": [
    {
     "data": {
      "text/plain": [
       "array([('Loan 1',  200., 0.0466,   5.56, 120.,  2.66),\n",
       "       ('Loan 2',  520., 0.0386,  33.47, 120.,  6.37),\n",
       "       ('Loan 3',  884., 0.068 , 220.43, 120., 14.54),\n",
       "       ('Loan 4', 1280., 0.0386,  82.43, 120., 15.69),\n",
       "       ('Loan 5', 1116., 0.068 , 278.26, 120., 18.36),\n",
       "       ('Loan 6', 2000., 0.068 , 362.51, 120., 32.9 ),\n",
       "       ('Loan 7', 2000., 0.068 , 636.03, 120., 32.9 ),\n",
       "       ('Loan 8', 3000., 0.0466,   0.  , 120., 39.84),\n",
       "       ('Loan 9', 3500., 0.045 ,   0.  , 120., 45.74),\n",
       "       ('Loan 10', 5500., 0.034 ,   0.  , 120., 64.39),\n",
       "       ('Loan 11', 5500., 0.034 ,   0.  , 120., 64.39),\n",
       "       ('Loan 12', 5500., 0.0386,   0.  , 120., 67.42)],\n",
       "      dtype=[('loan', '<U16'), ('princ', '<f8'), ('rate', '<f8'), ('interest', '<f8'), ('term', '<f8'), ('minpay', '<f8')])"
      ]
     },
     "execution_count": 24,
     "metadata": {},
     "output_type": "execute_result"
    }
   ],
   "source": [
    "filename = './sample_data/person_A.csv'\n",
    "loans = loadLoanCSV(filename, skiprow=1)\n",
    "loans"
   ]
  },
  {
   "cell_type": "code",
   "execution_count": 28,
   "metadata": {},
   "outputs": [
    {
     "name": "stdout",
     "output_type": "stream",
     "text": [
      "23.04\n"
     ]
    }
   ],
   "source": [
    "j = 6\n",
    "rp = getMinPayment(loans[j-1][1], loans[j-1][2])\n",
    "print(rp)"
   ]
  },
  {
   "cell_type": "code",
   "execution_count": 29,
   "metadata": {},
   "outputs": [
    {
     "data": {
      "text/plain": [
       "-0.8203128120091243"
      ]
     },
     "execution_count": 29,
     "metadata": {},
     "output_type": "execute_result"
    }
   ],
   "source": [
    "lp.simulateMonthlyRepayment(rp, loans[j-1][1], loans[j-1][2])"
   ]
  },
  {
   "cell_type": "code",
   "execution_count": 7,
   "metadata": {},
   "outputs": [
    {
     "data": {
      "text/plain": [
       "array([('Loan 1',  200., 0.0466,   5.56, 120.,  2.09),\n",
       "       ('Loan 2',  520., 0.0386,  33.47, 120.,  5.23),\n",
       "       ('Loan 3',  884., 0.068 , 220.43, 120., 10.18),\n",
       "       ('Loan 4', 1280., 0.0386,  82.43, 120., 12.88),\n",
       "       ('Loan 5', 1116., 0.068 , 278.26, 120., 12.85),\n",
       "       ('Loan 6', 2000., 0.068 , 362.51, 120., 23.04),\n",
       "       ('Loan 7', 2000., 0.068 , 636.03, 120., 23.04),\n",
       "       ('Loan 8', 3000., 0.0466,   0.  , 120., 31.34),\n",
       "       ('Loan 9', 3500., 0.045 ,   0.  , 120., 36.29),\n",
       "       ('Loan 10', 5500., 0.034 ,   0.  , 120., 54.14),\n",
       "       ('Loan 11', 5500., 0.034 ,   0.  , 120., 54.14),\n",
       "       ('Loan 12', 5500., 0.0386,   0.  , 120., 55.34)],\n",
       "      dtype=[('loan', '<U16'), ('princ', '<f8'), ('rate', '<f8'), ('interest', '<f8'), ('term', '<f8'), ('minpay', '<f8')])"
      ]
     },
     "execution_count": 7,
     "metadata": {},
     "output_type": "execute_result"
    }
   ],
   "source": [
    "for i in range(len(loans)):\n",
    "    p = loans[i][1]\n",
    "    r = loans[i][2]\n",
    "    loans[i][5] = getMinPayment(p, r)\n",
    "    \n",
    "loans"
   ]
  },
  {
   "cell_type": "code",
   "execution_count": 34,
   "metadata": {},
   "outputs": [
    {
     "name": "stdout",
     "output_type": "stream",
     "text": [
      "1 3.16\n",
      "2 3.0400000000000005\n",
      "3 3.4699999999999998\n",
      "4 3.040000000000001\n",
      "5 3.469999999999999\n",
      "6 3.4800000000000004\n",
      "7 3.4800000000000004\n",
      "8 3.16\n",
      "9 3.1300000000000026\n",
      "10 2.969999999999999\n",
      "11 2.969999999999999\n",
      "12 3.0400000000000063\n",
      "Remaining funds applied to loan 6\n"
     ]
    }
   ],
   "source": [
    "filename = './sample_data/person_A.csv'\n",
    "loans = loadLoanCSV(filename, skiprow=1)\n",
    "for i in range(len(loans)):\n",
    "    p = loans[i][1]\n",
    "    r = loans[i][2]\n",
    "    loans[i][5] = getMinPayment(p, r)\n",
    "    \n",
    "    \n",
    "totalpaid = 0\n",
    "t = 120\n",
    "minpayment = round(np.sum([i[5] for i in loans]), 2)\n",
    "compounding = 'daily'\n",
    "\n",
    "extra = 300\n",
    "m = 0\n",
    "\n",
    "\n",
    "\n",
    "# Greedy step-finder\n",
    "while True:\n",
    "    m += 1\n",
    "    funds = minpayment + extra\n",
    "    n = len(loans)\n",
    "    \n",
    "    # Apply minimum payments to each loan.\n",
    "    for i in range(n):\n",
    "        p = loans[i][1]\n",
    "        r = loans[i][2]\n",
    "        loans[i][1] = compound(p, r, 1)\n",
    "        funds = funds - loans[i][5]\n",
    "        totalpaid += loans[i][5]\n",
    "        loans[i][1] = loans[i][1] - loans[i][5]\n",
    "    \n",
    "    # Apply remaining funds to one loan that minimizes\n",
    "    # next month's min payment.\n",
    "    delta2 = 0\n",
    "    idx = 0\n",
    "    for i in range(n):\n",
    "        p = loans[i][1] - funds\n",
    "        r = loans[i][2]\n",
    "        delta1 = loans[i][5] - getMinPayment(p, r, t - m)\n",
    "        print(i+1, delta1)\n",
    "        if delta1 > delta2:\n",
    "            delta2 = delta1\n",
    "            idx = i\n",
    "    print('Remaining funds applied to loan', idx + 1)\n",
    "    break\n",
    "    \n",
    "\n",
    "    if np.sum([i[1] for i in loans]) <= 1.:\n",
    "        print(round(totalpaid,2), 'paid in', m, 'mo')\n",
    "        break\n",
    "        \n",
    "\n"
   ]
  },
  {
   "cell_type": "code",
   "execution_count": 8,
   "metadata": {},
   "outputs": [
    {
     "ename": "NameError",
     "evalue": "name 'minpayment' is not defined",
     "output_type": "error",
     "traceback": [
      "\u001b[1;31m---------------------------------------------------------------------------\u001b[0m",
      "\u001b[1;31mNameError\u001b[0m                                 Traceback (most recent call last)",
      "\u001b[1;32m<ipython-input-8-f8b630016c9e>\u001b[0m in \u001b[0;36m<module>\u001b[1;34m\u001b[0m\n\u001b[1;32m----> 1\u001b[1;33m \u001b[0mminpayment\u001b[0m\u001b[1;33m\u001b[0m\u001b[1;33m\u001b[0m\u001b[0m\n\u001b[0m",
      "\u001b[1;31mNameError\u001b[0m: name 'minpayment' is not defined"
     ]
    }
   ],
   "source": [
    "minpayment"
   ]
  },
  {
   "cell_type": "code",
   "execution_count": null,
   "metadata": {},
   "outputs": [],
   "source": []
  }
 ],
 "metadata": {
  "kernelspec": {
   "display_name": "Python 3",
   "language": "python",
   "name": "python3"
  },
  "language_info": {
   "codemirror_mode": {
    "name": "ipython",
    "version": 3
   },
   "file_extension": ".py",
   "mimetype": "text/x-python",
   "name": "python",
   "nbconvert_exporter": "python",
   "pygments_lexer": "ipython3",
   "version": "3.6.8"
  }
 },
 "nbformat": 4,
 "nbformat_minor": 2
}
